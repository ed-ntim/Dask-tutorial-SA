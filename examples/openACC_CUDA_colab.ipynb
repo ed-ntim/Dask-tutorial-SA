{
  "cells": [
    {
      "cell_type": "markdown",
      "metadata": {
        "id": "view-in-github",
        "colab_type": "text"
      },
      "source": [
        "<a href=\"https://colab.research.google.com/github/ed-ntim/Dask-tutorial-SA/blob/main/examples/openACC_CUDA_colab.ipynb\" target=\"_parent\"><img src=\"https://colab.research.google.com/assets/colab-badge.svg\" alt=\"Open In Colab\"/></a>"
      ]
    },
    {
      "cell_type": "markdown",
      "metadata": {
        "id": "D6BqLpZjlzBM"
      },
      "source": [
        "# OpenACC-CUDA workshop"
      ]
    },
    {
      "cell_type": "code",
      "execution_count": 1,
      "metadata": {
        "colab": {
          "base_uri": "https://localhost:8080/"
        },
        "id": "8O5Zv1N5ovZi",
        "outputId": "3fc6317c-13e3-45c6-d1e8-6e5a9f7c4446"
      },
      "outputs": [
        {
          "output_type": "stream",
          "name": "stdout",
          "text": [
            "/content\n"
          ]
        }
      ],
      "source": [
        "!pwd"
      ]
    },
    {
      "cell_type": "markdown",
      "metadata": {
        "id": "6WS9YBwSAsnf"
      },
      "source": [
        "## Activate GPU\n",
        "\n",
        "- To get access to a GPU, click on the *Runtime* menu and select *Change runtime type*. Choose GPU as a Hardware accelerator. It might take a minute for your notebook to connect to a GPU.\n",
        "- To check whether a GPU has been connected to your session, run the code cell below with the ``!nvidia-smi`` command by hitting ``SHIFT-ENTER`` on it."
      ]
    },
    {
      "cell_type": "code",
      "execution_count": 2,
      "metadata": {
        "id": "dcgTx_OSAwA_",
        "colab": {
          "base_uri": "https://localhost:8080/"
        },
        "outputId": "c5925e87-c210-41e9-9941-f7bf5657cbf6"
      },
      "outputs": [
        {
          "output_type": "stream",
          "name": "stdout",
          "text": [
            "Sun Apr 28 07:29:05 2024       \n",
            "+---------------------------------------------------------------------------------------+\n",
            "| NVIDIA-SMI 535.104.05             Driver Version: 535.104.05   CUDA Version: 12.2     |\n",
            "|-----------------------------------------+----------------------+----------------------+\n",
            "| GPU  Name                 Persistence-M | Bus-Id        Disp.A | Volatile Uncorr. ECC |\n",
            "| Fan  Temp   Perf          Pwr:Usage/Cap |         Memory-Usage | GPU-Util  Compute M. |\n",
            "|                                         |                      |               MIG M. |\n",
            "|=========================================+======================+======================|\n",
            "|   0  Tesla T4                       Off | 00000000:00:04.0 Off |                    0 |\n",
            "| N/A   60C    P8              10W /  70W |      0MiB / 15360MiB |      0%      Default |\n",
            "|                                         |                      |                  N/A |\n",
            "+-----------------------------------------+----------------------+----------------------+\n",
            "                                                                                         \n",
            "+---------------------------------------------------------------------------------------+\n",
            "| Processes:                                                                            |\n",
            "|  GPU   GI   CI        PID   Type   Process name                            GPU Memory |\n",
            "|        ID   ID                                                             Usage      |\n",
            "|=======================================================================================|\n",
            "|  No running processes found                                                           |\n",
            "+---------------------------------------------------------------------------------------+\n"
          ]
        }
      ],
      "source": [
        "!nvidia-smi"
      ]
    },
    {
      "cell_type": "markdown",
      "metadata": {
        "id": "xAPuix4SA3Vp"
      },
      "source": [
        "## Clone the material"
      ]
    },
    {
      "cell_type": "code",
      "execution_count": 3,
      "metadata": {
        "colab": {
          "base_uri": "https://localhost:8080/"
        },
        "id": "qJIpAOBWpHOx",
        "outputId": "b6b32ee2-c0d1-40fa-9271-809798ea414e"
      },
      "outputs": [
        {
          "output_type": "stream",
          "name": "stdout",
          "text": [
            "Cloning into 'OpenACC-CUDA-beginners'...\n",
            "remote: Enumerating objects: 1380, done.\u001b[K\n",
            "remote: Counting objects: 100% (50/50), done.\u001b[K\n",
            "remote: Compressing objects: 100% (23/23), done.\u001b[K\n",
            "remote: Total 1380 (delta 30), reused 27 (delta 27), pack-reused 1330\u001b[K\n",
            "Receiving objects: 100% (1380/1380), 14.09 MiB | 33.48 MiB/s, done.\n",
            "Resolving deltas: 100% (677/677), done.\n"
          ]
        }
      ],
      "source": [
        "!git clone https://github.com/ENCCS/OpenACC-CUDA-beginners.git"
      ]
    },
    {
      "cell_type": "code",
      "execution_count": 4,
      "metadata": {
        "colab": {
          "base_uri": "https://localhost:8080/"
        },
        "id": "t44HqrHsls5x",
        "outputId": "92ca5474-8d36-497f-cf4d-a62ddc425f8f"
      },
      "outputs": [
        {
          "output_type": "stream",
          "name": "stdout",
          "text": [
            "OpenACC-CUDA-beginners\tsample_data\n"
          ]
        }
      ],
      "source": [
        "!ls"
      ]
    },
    {
      "cell_type": "markdown",
      "metadata": {
        "id": "CYF7lZ8RuipV"
      },
      "source": [
        "## Checkout out **colab_gcc** branch"
      ]
    },
    {
      "cell_type": "code",
      "execution_count": 5,
      "metadata": {
        "colab": {
          "base_uri": "https://localhost:8080/"
        },
        "id": "oN7xcztouuTs",
        "outputId": "ed86bff3-5b13-4ef1-9c5b-019c3044855b"
      },
      "outputs": [
        {
          "output_type": "stream",
          "name": "stdout",
          "text": [
            "/content/OpenACC-CUDA-beginners\n",
            "Branch 'colab_gcc' set up to track remote branch 'colab_gcc' from 'origin'.\n",
            "Switched to a new branch 'colab_gcc'\n"
          ]
        }
      ],
      "source": [
        "%cd OpenACC-CUDA-beginners\n",
        "!git checkout colab_gcc"
      ]
    },
    {
      "cell_type": "code",
      "execution_count": 6,
      "metadata": {
        "colab": {
          "base_uri": "https://localhost:8080/"
        },
        "id": "kq5nVvo2u-Is",
        "outputId": "79eca642-2ac3-4f20-ec83-ecf6b1b3774b"
      },
      "outputs": [
        {
          "output_type": "stream",
          "name": "stdout",
          "text": [
            "* \u001b[32mcolab_gcc\u001b[m\n",
            "  main\u001b[m\n"
          ]
        }
      ],
      "source": [
        "!git branch"
      ]
    },
    {
      "cell_type": "markdown",
      "metadata": {
        "id": "jeH9ThM7luF1"
      },
      "source": [
        "## OpenACC"
      ]
    },
    {
      "cell_type": "markdown",
      "metadata": {
        "id": "A6wNo7E9JF0D"
      },
      "source": [
        "### Hello World"
      ]
    },
    {
      "cell_type": "code",
      "execution_count": 7,
      "metadata": {
        "colab": {
          "base_uri": "https://localhost:8080/"
        },
        "id": "qf-7cP6EJdXD",
        "outputId": "e7f02840-766b-4860-db37-28ee32f56075"
      },
      "outputs": [
        {
          "output_type": "stream",
          "name": "stdout",
          "text": [
            "/content/OpenACC-CUDA-beginners/examples/OpenACC/hello-world\n"
          ]
        }
      ],
      "source": [
        "%cd /content/OpenACC-CUDA-beginners/examples/OpenACC/hello-world/"
      ]
    },
    {
      "cell_type": "code",
      "execution_count": 8,
      "metadata": {
        "colab": {
          "base_uri": "https://localhost:8080/"
        },
        "id": "dS3XhPJHKPy7",
        "outputId": "ff4422c1-e4a8-4882-e0dc-29ab546e606d"
      },
      "outputs": [
        {
          "output_type": "stream",
          "name": "stdout",
          "text": [
            "compile.sh  hello.c  hello.F90\tREADME.md\n"
          ]
        }
      ],
      "source": [
        "!ls"
      ]
    },
    {
      "cell_type": "markdown",
      "metadata": {
        "id": "LknjXCxaKtLi"
      },
      "source": [
        "Compile and run C version"
      ]
    },
    {
      "cell_type": "code",
      "execution_count": 9,
      "metadata": {
        "id": "EEuFYeB9KSV-"
      },
      "outputs": [],
      "source": [
        "!gcc -fopenacc -o hello_c hello.c"
      ]
    },
    {
      "cell_type": "code",
      "source": [
        "! cat hello.c"
      ],
      "metadata": {
        "colab": {
          "base_uri": "https://localhost:8080/"
        },
        "id": "_-HxgMTenT7_",
        "outputId": "803654ba-e326-446c-ae1b-98caae25b2d9"
      },
      "execution_count": 11,
      "outputs": [
        {
          "output_type": "stream",
          "name": "stdout",
          "text": [
            "#include <stdio.h>\n",
            "#ifdef _OPENACC\n",
            "#include <openacc.h>\n",
            "#endif\n",
            "\n",
            "int main(void) {\n",
            "#ifdef _OPENACC\n",
            "  acc_device_t devtype;\n",
            "#endif\n",
            "\n",
            "  printf(\"Hello world from OpenACC\\n\");\n",
            "#ifdef _OPENACC\n",
            "  devtype = acc_get_device_type();\n",
            "  printf(\"Number of available OpenACC devices: %d\\n\", acc_get_num_devices(devtype));\n",
            "  printf(\"Type of available OpenACC devices: %d\\n\", devtype);\n",
            "#else\n",
            "  printf(\"Code compiled without OpenACC\\n\");\n",
            "#endif\n",
            "\n",
            "  return 0;\n",
            "}\n"
          ]
        }
      ]
    },
    {
      "cell_type": "code",
      "execution_count": 10,
      "metadata": {
        "colab": {
          "base_uri": "https://localhost:8080/"
        },
        "id": "iVzDTFLpKcSl",
        "outputId": "4d04e49b-9637-414e-e07d-2a2093206092"
      },
      "outputs": [
        {
          "output_type": "stream",
          "name": "stdout",
          "text": [
            "Hello world from OpenACC\n",
            "Number of available OpenACC devices: 1\n",
            "Type of available OpenACC devices: 2\n"
          ]
        }
      ],
      "source": [
        "!./hello_c"
      ]
    },
    {
      "cell_type": "markdown",
      "metadata": {
        "id": "dRFzmX4CKxyU"
      },
      "source": [
        "Compile and run Fortran version"
      ]
    },
    {
      "cell_type": "code",
      "execution_count": 12,
      "metadata": {
        "id": "qeYvrnh4Kgvm"
      },
      "outputs": [],
      "source": [
        "!gfortran -fopenacc -o hello_f hello.F90"
      ]
    },
    {
      "cell_type": "code",
      "execution_count": 13,
      "metadata": {
        "colab": {
          "base_uri": "https://localhost:8080/"
        },
        "id": "x6cvbnA2KpAW",
        "outputId": "ebdf985a-af44-4df0-ea81-2517314222c7"
      },
      "outputs": [
        {
          "output_type": "stream",
          "name": "stdout",
          "text": [
            " Hello world from OpenACC\n",
            "Number of available OpenACC devices: 1\n",
            "Type of available OpenACC devices: 2\n"
          ]
        }
      ],
      "source": [
        "!./hello_f"
      ]
    },
    {
      "cell_type": "code",
      "execution_count": null,
      "metadata": {
        "id": "goDm9YutmbCg"
      },
      "outputs": [],
      "source": []
    },
    {
      "cell_type": "markdown",
      "metadata": {
        "id": "u1JryIrfJKsx"
      },
      "source": [
        "### Vector sum"
      ]
    },
    {
      "cell_type": "code",
      "execution_count": 14,
      "metadata": {
        "colab": {
          "base_uri": "https://localhost:8080/"
        },
        "id": "MpfFV2rlJeDm",
        "outputId": "f5f2c363-209d-4cdf-e5c7-9672e5411c6d"
      },
      "outputs": [
        {
          "output_type": "stream",
          "name": "stdout",
          "text": [
            "/content/OpenACC-CUDA-beginners/examples/OpenACC/vector-sum\n"
          ]
        }
      ],
      "source": [
        "%cd /content/OpenACC-CUDA-beginners/examples/OpenACC/vector-sum/"
      ]
    },
    {
      "cell_type": "code",
      "execution_count": 15,
      "metadata": {
        "colab": {
          "base_uri": "https://localhost:8080/"
        },
        "id": "jp0kdq0KK6TN",
        "outputId": "c62585f8-a6b0-4953-b706-ea30d3d19603"
      },
      "outputs": [
        {
          "output_type": "stream",
          "name": "stdout",
          "text": [
            "c  F90\tREADME.md  solution\n"
          ]
        }
      ],
      "source": [
        "!ls"
      ]
    },
    {
      "cell_type": "code",
      "execution_count": 16,
      "metadata": {
        "colab": {
          "base_uri": "https://localhost:8080/"
        },
        "id": "bdYqsvUZLt2I",
        "outputId": "de5c5d92-adc9-42f8-818d-1b1ed4bb76d8"
      },
      "outputs": [
        {
          "output_type": "stream",
          "name": "stdout",
          "text": [
            "/content/OpenACC-CUDA-beginners/examples/OpenACC/vector-sum/c\n"
          ]
        }
      ],
      "source": [
        "# Pick either C or Fortran:\n",
        "%cd c\n",
        "#%cd F90\n",
        "# Have a look at the solutions:\n",
        "#%cd solution"
      ]
    },
    {
      "cell_type": "code",
      "execution_count": 26,
      "metadata": {
        "colab": {
          "base_uri": "https://localhost:8080/"
        },
        "id": "y-NzTX5DMJDP",
        "outputId": "b263394f-b843-436e-9004-deecd3edd78c"
      },
      "outputs": [
        {
          "output_type": "stream",
          "name": "stdout",
          "text": [
            "gcc -g -O3 -fopenacc  sum.c -o sum \n"
          ]
        }
      ],
      "source": [
        "!make"
      ]
    },
    {
      "cell_type": "code",
      "execution_count": 23,
      "metadata": {
        "colab": {
          "base_uri": "https://localhost:8080/"
        },
        "id": "yVWarySkmbCi",
        "outputId": "d1132b16-0973-44f4-ba0b-454c6798e5ef"
      },
      "outputs": [
        {
          "output_type": "stream",
          "name": "stdout",
          "text": [
            "Makefile  sum  sum.c\n",
            "#include <stdio.h>\n",
            "#ifdef _OPENACC\n",
            "#include <openacc.h>\n",
            "#endif\n",
            "\n",
            "#define NX 102400\n",
            "\n",
            "int main(void)\n",
            "{\n",
            "    double vecA[NX], vecB[NX], vecC[NX];\n",
            "    double sum;\n",
            "    int i;\n",
            "\n",
            "    /* Initialization of the vectors */\n",
            "    for (i = 0; i < NX; i++) {\n",
            "        vecA[i] = 1.0 / ((double) (NX - i));\n",
            "        vecB[i] = vecA[i] * vecA[i];\n",
            "    }\n",
            "\n",
            "    /* TODO:\n",
            "     * Implement vector addition on device with OpenACC\n",
            "     * vecC = vecA + vecB\n",
            "     */ \n",
            "#pragma acc data copy (vecA, vecB, vecC)\n",
            "{\n",
            "#pragma acc parallel\n",
            "    {\n",
            "#pragma acc loop\n",
            "        for (i = 0; i < NX; i++){\n",
            "          vecC[i] += vecA[i] * vecB[i];\n",
            "        }\n",
            "    }\n",
            "}     \n",
            "\n",
            "    sum = 0.0;\n",
            "    /* Compute the check value */\n",
            "    for (i = 0; i < NX; i++) {\n",
            "        sum += vecC[i];\n",
            "    }\n",
            "    printf(\"Reduction sum: %18.16f\\n\", sum);\n",
            "\n",
            "    return 0;\n",
            "}\n"
          ]
        }
      ],
      "source": [
        "! ls\n",
        "! cat sum.c"
      ]
    },
    {
      "cell_type": "code",
      "source": [
        "! ./sum -OPENACC\n",
        "\n"
      ],
      "metadata": {
        "colab": {
          "base_uri": "https://localhost:8080/"
        },
        "id": "1dw82UwdrL09",
        "outputId": "f6b5ea28-f754-4b05-f6fc-1e4d675d3261"
      },
      "execution_count": 28,
      "outputs": [
        {
          "output_type": "stream",
          "name": "stdout",
          "text": [
            "Reduction sum: 1.2020569031119110\n"
          ]
        }
      ]
    },
    {
      "cell_type": "markdown",
      "metadata": {
        "id": "1mX93fR7JLBT"
      },
      "source": [
        "### Double loop"
      ]
    },
    {
      "cell_type": "code",
      "execution_count": null,
      "metadata": {
        "id": "-rCSF4vDJeqY"
      },
      "outputs": [],
      "source": [
        "%cd /content/OpenACC-CUDA-beginners/examples/OpenACC/doubleloop/"
      ]
    },
    {
      "cell_type": "code",
      "execution_count": null,
      "metadata": {
        "id": "n7GS97rTJrKR"
      },
      "outputs": [],
      "source": [
        "!ls"
      ]
    },
    {
      "cell_type": "code",
      "execution_count": null,
      "metadata": {
        "id": "Zj7HJKIPJk9h"
      },
      "outputs": [],
      "source": [
        "%cd c\n",
        "# Have a look at the solutions:\n",
        "#%cd solution"
      ]
    },
    {
      "cell_type": "code",
      "execution_count": null,
      "metadata": {
        "id": "4juwACcOKLFo"
      },
      "outputs": [],
      "source": []
    },
    {
      "cell_type": "markdown",
      "metadata": {
        "id": "PGlttDY0JOmj"
      },
      "source": [
        "### Jacobi"
      ]
    },
    {
      "cell_type": "code",
      "execution_count": null,
      "metadata": {
        "id": "tqkZAsiwJfZn"
      },
      "outputs": [],
      "source": [
        "%cd /content/OpenACC-CUDA-beginners/examples/OpenACC/jacobi/"
      ]
    },
    {
      "cell_type": "code",
      "execution_count": null,
      "metadata": {
        "id": "yoflwIAbJ3DI"
      },
      "outputs": [],
      "source": [
        "!ls"
      ]
    },
    {
      "cell_type": "code",
      "execution_count": null,
      "metadata": {
        "id": "Edy3_Jv2J9Tw"
      },
      "outputs": [],
      "source": [
        "%cd c\n",
        "# Have a look at the solutions:\n",
        "#%cd solution"
      ]
    },
    {
      "cell_type": "code",
      "execution_count": null,
      "metadata": {
        "id": "JcCaRccSmbCl"
      },
      "outputs": [],
      "source": []
    },
    {
      "cell_type": "markdown",
      "metadata": {
        "id": "vGCtKAZ4mwPI"
      },
      "source": [
        "### $\\pi$ Monte Carlo"
      ]
    },
    {
      "cell_type": "code",
      "execution_count": null,
      "metadata": {
        "id": "f41pkQwPKAiP"
      },
      "outputs": [],
      "source": [
        "%cd /content/OpenACC-CUDA-beginners/examples/OpenACC/pi_monte_carlo/"
      ]
    },
    {
      "cell_type": "code",
      "execution_count": null,
      "metadata": {
        "id": "vUX3QJdvKAiQ"
      },
      "outputs": [],
      "source": [
        "!ls"
      ]
    },
    {
      "cell_type": "code",
      "execution_count": null,
      "metadata": {
        "id": "UB4m64NFKAiR"
      },
      "outputs": [],
      "source": [
        "%cd c\n",
        "# Have a look at the solutions:\n",
        "#%cd solution"
      ]
    },
    {
      "cell_type": "code",
      "execution_count": null,
      "metadata": {
        "id": "VSw2X2IBJgq5"
      },
      "outputs": [],
      "source": []
    },
    {
      "cell_type": "markdown",
      "metadata": {
        "id": "ZJt3FQPBJUda"
      },
      "source": [
        "### Heat equation"
      ]
    },
    {
      "cell_type": "code",
      "execution_count": null,
      "metadata": {
        "id": "UqNjOS6EKEVS"
      },
      "outputs": [],
      "source": [
        "%cd /content/OpenACC-CUDA-beginners/examples/OpenACC/HeatEquation/"
      ]
    },
    {
      "cell_type": "code",
      "execution_count": null,
      "metadata": {
        "id": "u_ZZN7eAKEVT"
      },
      "outputs": [],
      "source": [
        "!ls"
      ]
    },
    {
      "cell_type": "code",
      "execution_count": null,
      "metadata": {
        "id": "QA7FJ_i1KEVT"
      },
      "outputs": [],
      "source": [
        "%cd c\n",
        "# Have a look at the solutions:\n",
        "#%cd solution"
      ]
    },
    {
      "cell_type": "code",
      "execution_count": null,
      "metadata": {
        "id": "CvWc9q92mbCx"
      },
      "outputs": [],
      "source": []
    },
    {
      "cell_type": "markdown",
      "metadata": {
        "id": "s4Pu7H4BwtH-"
      },
      "source": [
        "### Jacobi"
      ]
    },
    {
      "cell_type": "code",
      "execution_count": null,
      "metadata": {
        "id": "6zID0zDgwqcr"
      },
      "outputs": [],
      "source": [
        "%cd /content/OpenACC-CUDA-beginners/examples/OpenACC/jacobi/c"
      ]
    },
    {
      "cell_type": "code",
      "execution_count": null,
      "metadata": {
        "id": "e0fq0cNzw4X6"
      },
      "outputs": [],
      "source": [
        "# !gcc -g -O3 -fopenacc  jacobi.c -o jacobi  -lm\n",
        "!make"
      ]
    },
    {
      "cell_type": "code",
      "execution_count": null,
      "metadata": {
        "id": "Tlx3pneux7bi"
      },
      "outputs": [],
      "source": [
        "!./jacobi"
      ]
    },
    {
      "cell_type": "markdown",
      "metadata": {
        "id": "UizLm-2WyjRp"
      },
      "source": [
        "go to solution"
      ]
    },
    {
      "cell_type": "code",
      "execution_count": null,
      "metadata": {
        "id": "XZBqFWQbym-q"
      },
      "outputs": [],
      "source": [
        "%cd ../solution/c"
      ]
    },
    {
      "cell_type": "code",
      "execution_count": null,
      "metadata": {
        "id": "aS5vT-tMy2cO"
      },
      "outputs": [],
      "source": [
        "# !gcc -g -O3 -fopenacc  jacobi.c -o jacobi  -lm\n",
        "!make"
      ]
    },
    {
      "cell_type": "markdown",
      "metadata": {
        "id": "aPHXwSoRvwXF"
      },
      "source": [
        "### Heat equation"
      ]
    },
    {
      "cell_type": "code",
      "execution_count": null,
      "metadata": {
        "id": "jqGfrNx8PYU2"
      },
      "outputs": [],
      "source": [
        "%cd /content/OpenACC-CUDA-beginners/examples/OpenACC/HeatEquation/c"
      ]
    },
    {
      "cell_type": "code",
      "execution_count": null,
      "metadata": {
        "id": "G94izfiNPeRa"
      },
      "outputs": [],
      "source": [
        "!make"
      ]
    },
    {
      "cell_type": "code",
      "execution_count": null,
      "metadata": {
        "id": "Ig9W8EqJP6jS"
      },
      "outputs": [],
      "source": [
        "!./heat"
      ]
    },
    {
      "cell_type": "markdown",
      "metadata": {
        "id": "-8m2pVcVwC5r"
      },
      "source": [
        "go to solution"
      ]
    },
    {
      "cell_type": "code",
      "execution_count": null,
      "metadata": {
        "id": "9dYtyLuOwQB_"
      },
      "outputs": [],
      "source": [
        "%cd ../solution/c"
      ]
    },
    {
      "cell_type": "code",
      "execution_count": null,
      "metadata": {
        "id": "34alAFmXw8fG"
      },
      "outputs": [],
      "source": [
        "!gcc -fopenacc -o heat_equation_openacc_1 /content/OpenACC-CUDA-beginners/examples/OpenACC/HeatEquation/solution/c/heat_equation_openacc_1.c"
      ]
    },
    {
      "cell_type": "code",
      "execution_count": null,
      "metadata": {
        "id": "W7MlYgA2yioS"
      },
      "outputs": [],
      "source": [
        "!./heat_equation_openacc_1"
      ]
    },
    {
      "cell_type": "markdown",
      "metadata": {
        "id": "bAlNWf3blxI7"
      },
      "source": [
        "## CUDA"
      ]
    },
    {
      "cell_type": "markdown",
      "metadata": {
        "id": "x0By9cPCShlb"
      },
      "source": [
        "### DeviceList"
      ]
    },
    {
      "cell_type": "code",
      "execution_count": null,
      "metadata": {
        "id": "H_5pzYu-Sggk"
      },
      "outputs": [],
      "source": [
        "%cd /content/OpenACC-CUDA-beginners/examples/CUDA/DeviceList"
      ]
    },
    {
      "cell_type": "code",
      "execution_count": null,
      "metadata": {
        "id": "pWVOmVCcSmgJ"
      },
      "outputs": [],
      "source": [
        "!ls"
      ]
    },
    {
      "cell_type": "code",
      "execution_count": null,
      "metadata": {
        "id": "OILVCJ71mbC5"
      },
      "outputs": [],
      "source": []
    },
    {
      "cell_type": "markdown",
      "metadata": {
        "id": "xuSTw5cuStTT"
      },
      "source": [
        "### VectorAdd"
      ]
    },
    {
      "cell_type": "code",
      "execution_count": null,
      "metadata": {
        "id": "Ns2t2GbtSsrZ"
      },
      "outputs": [],
      "source": [
        "%cd /content/OpenACC-CUDA-beginners/examples/CUDA/VectorAdd/"
      ]
    },
    {
      "cell_type": "code",
      "execution_count": null,
      "metadata": {
        "id": "JXdmoHspSz3l"
      },
      "outputs": [],
      "source": [
        "!ls"
      ]
    },
    {
      "cell_type": "code",
      "execution_count": null,
      "metadata": {
        "id": "4VmgYEiTmbC-"
      },
      "outputs": [],
      "source": []
    },
    {
      "cell_type": "markdown",
      "metadata": {
        "id": "9FA3t0s5S5YP"
      },
      "source": [
        "### VectorDotProduct"
      ]
    },
    {
      "cell_type": "code",
      "execution_count": null,
      "metadata": {
        "id": "345b-WhYS5YP"
      },
      "outputs": [],
      "source": [
        "%cd /content/OpenACC-CUDA-beginners/examples/CUDA/VectorDotProduct/"
      ]
    },
    {
      "cell_type": "code",
      "execution_count": null,
      "metadata": {
        "id": "fZQMPQb4S5YQ"
      },
      "outputs": [],
      "source": [
        "!ls"
      ]
    },
    {
      "cell_type": "code",
      "execution_count": null,
      "metadata": {
        "id": "_0r2jG5mmbDA"
      },
      "outputs": [],
      "source": []
    },
    {
      "cell_type": "markdown",
      "metadata": {
        "id": "0vb8XjHUTA5W"
      },
      "source": [
        "### MatrixAdd"
      ]
    },
    {
      "cell_type": "code",
      "execution_count": null,
      "metadata": {
        "id": "eNTrxEEuTA5X"
      },
      "outputs": [],
      "source": [
        "%cd /content/OpenACC-CUDA-beginners/examples/CUDA/MatrixAdd/"
      ]
    },
    {
      "cell_type": "code",
      "execution_count": null,
      "metadata": {
        "id": "Hn5zEqJ5TA5Y"
      },
      "outputs": [],
      "source": [
        "!ls"
      ]
    },
    {
      "cell_type": "code",
      "execution_count": null,
      "metadata": {
        "id": "1kL4NNGWmbDC"
      },
      "outputs": [],
      "source": []
    },
    {
      "cell_type": "markdown",
      "metadata": {
        "id": "kjmBGwtqTGyz"
      },
      "source": [
        "### Heat Equation"
      ]
    },
    {
      "cell_type": "code",
      "execution_count": null,
      "metadata": {
        "id": "boUhbj-sTGyz"
      },
      "outputs": [],
      "source": [
        "%cd /content/OpenACC-CUDA-beginners/examples/CUDA/HeatEquation/"
      ]
    },
    {
      "cell_type": "code",
      "execution_count": null,
      "metadata": {
        "id": "pYdj-TOcTGy0"
      },
      "outputs": [],
      "source": [
        "!ls"
      ]
    },
    {
      "cell_type": "code",
      "execution_count": null,
      "metadata": {
        "id": "wc5d7zXGpxfv"
      },
      "outputs": [],
      "source": []
    }
  ],
  "metadata": {
    "accelerator": "GPU",
    "colab": {
      "name": "Copy of openACC_CUDA_colab.ipynb",
      "provenance": [],
      "include_colab_link": true
    },
    "kernelspec": {
      "display_name": "Python 3",
      "language": "python",
      "name": "python3"
    },
    "language_info": {
      "codemirror_mode": {
        "name": "ipython",
        "version": 3
      },
      "file_extension": ".py",
      "mimetype": "text/x-python",
      "name": "python",
      "nbconvert_exporter": "python",
      "pygments_lexer": "ipython3",
      "version": "3.8.5"
    }
  },
  "nbformat": 4,
  "nbformat_minor": 0
}